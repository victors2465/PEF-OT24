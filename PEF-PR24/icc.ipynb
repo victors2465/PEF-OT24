{
 "cells": [
  {
   "cell_type": "code",
   "execution_count": 1,
   "metadata": {},
   "outputs": [],
   "source": [
    "import numpy as np\n",
    "import pingouin as pg\n",
    "import pandas  as pd\n"
   ]
  },
  {
   "cell_type": "code",
   "execution_count": 2,
   "metadata": {},
   "outputs": [
    {
     "name": "stdout",
     "output_type": "stream",
     "text": [
      "HandClock Evaluating General\n",
      "    Type              Description       ICC         F  df1  df2          pval  \\\n",
      "0   ICC1   Single raters absolute  0.655942  6.719457   26   54  2.105600e-09   \n",
      "1   ICC2     Single random raters  0.662595  8.114754   26   52  1.076460e-10   \n",
      "2   ICC3      Single fixed raters  0.703404  8.114754   26   52  1.076460e-10   \n",
      "3  ICC1k  Average raters absolute  0.851178  6.719457   26   54  2.105600e-09   \n",
      "4  ICC2k    Average random raters  0.854892  8.114754   26   52  1.076460e-10   \n",
      "5  ICC3k     Average fixed raters  0.876768  8.114754   26   52  1.076460e-10   \n",
      "\n",
      "          CI95%  \n",
      "0  [0.46, 0.81]  \n",
      "1  [0.45, 0.82]  \n",
      "2  [0.52, 0.84]  \n",
      "3  [0.72, 0.93]  \n",
      "4  [0.71, 0.93]  \n",
      "5  [0.77, 0.94]  \n"
     ]
    }
   ],
   "source": [
    "#Hand Clocks\n",
    "data_handclocks_general = pd.DataFrame({\n",
    "    'subject': np.tile(np.arange(1,28),3),\n",
    "    'judge': np.repeat([1,2,3],27),\n",
    "    'score': [0,3,1,0,0,3,1,3,4,4,3,3,4,3,3,4,4,4,3,4,4,3,4,3,4,3,2,0,1,0,0,0,0,1,2,4,4,3,3,3,3,3,4,4,3,2,3,3,3,3,3,3,3,1,0,1,1,1,1,1,2,1,4,4,3,2,2,4,4,2,4,1,1,1,2,3,4,3,3,3,1]\n",
    "})\n",
    "\n",
    "# Compute ICC\n",
    "print(\"HandClock Evaluating General\")\n",
    "icc = pg.intraclass_corr(data=data_handclocks_general, targets='subject', raters='judge', ratings='score')\n",
    "print(icc)\n"
   ]
  },
  {
   "cell_type": "code",
   "execution_count": 3,
   "metadata": {},
   "outputs": [
    {
     "name": "stdout",
     "output_type": "stream",
     "text": [
      "Contours Evaluating General\n",
      "    Type              Description       ICC         F  df1  df2          pval  \\\n",
      "0   ICC1   Single raters absolute  0.585106  5.230769   26   54  1.503204e-07   \n",
      "1   ICC2     Single random raters  0.587302  5.440000   26   52  1.102646e-07   \n",
      "2   ICC3      Single fixed raters  0.596774  5.440000   26   52  1.102646e-07   \n",
      "3  ICC1k  Average raters absolute  0.808824  5.230769   26   54  1.503204e-07   \n",
      "4  ICC2k    Average random raters  0.810219  5.440000   26   52  1.102646e-07   \n",
      "5  ICC3k     Average fixed raters  0.816176  5.440000   26   52  1.102646e-07   \n",
      "\n",
      "          CI95%  \n",
      "0  [0.37, 0.76]  \n",
      "1  [0.38, 0.76]  \n",
      "2  [0.38, 0.77]  \n",
      "3  [0.64, 0.91]  \n",
      "4  [0.64, 0.91]  \n",
      "5  [0.65, 0.91]  \n"
     ]
    }
   ],
   "source": [
    "#Contour\n",
    "data_contours_general = pd.DataFrame({\n",
    "    'subject': np.tile(np.arange(1,28),3),\n",
    "    'judge': np.repeat([\"Mauricio\",\"JuanCarlos\",\"MocaSystem\"],27),\n",
    "    'score': [1,2,2,2,2,2,2,2,2,2,2,2,2,2,2,2,2,2,2,1,2,2,2,2,2,2,1,1,2,2,2,2,2,2,2,2,2,2,2,2,2,2,2,2,2,2,2,2,2,2,2,2,2,2,1,2,2,2,2,2,2,2,2,2,2,2,2,2,2,2,2,2,2,2,2,2,2,2,2,2,2]\n",
    "\n",
    "})\n",
    "# Compute ICC\n",
    "print(\"Contours Evaluating General\")\n",
    "icc = pg.intraclass_corr(data=data_contours_general, targets='subject', raters='judge', ratings='score')\n",
    "print(icc)\n",
    "\n"
   ]
  },
  {
   "cell_type": "code",
   "execution_count": 4,
   "metadata": {},
   "outputs": [
    {
     "name": "stdout",
     "output_type": "stream",
     "text": [
      "Numbers Evaluating General\n",
      "    Type              Description       ICC          F  df1  df2  \\\n",
      "0   ICC1   Single raters absolute  0.770588  11.076923   26   54   \n",
      "1   ICC2     Single random raters  0.770449  10.989899   26   52   \n",
      "2   ICC3      Single fixed raters  0.769051  10.989899   26   52   \n",
      "3  ICC1k  Average raters absolute  0.909722  11.076923   26   54   \n",
      "4  ICC2k    Average random raters  0.909658  10.989899   26   52   \n",
      "5  ICC3k     Average fixed raters  0.909007  10.989899   26   52   \n",
      "\n",
      "           pval         CI95%  \n",
      "0  1.226304e-13  [0.62, 0.88]  \n",
      "1  2.954598e-13  [0.62, 0.88]  \n",
      "2  2.954598e-13  [0.62, 0.88]  \n",
      "3  1.226304e-13  [0.83, 0.96]  \n",
      "4  2.954598e-13  [0.83, 0.96]  \n",
      "5  2.954598e-13  [0.83, 0.96]  \n"
     ]
    }
   ],
   "source": [
    "data_numbers_general = pd.DataFrame({\n",
    "    'subject': np.tile(np.arange(1,28),3),\n",
    "    'judge': np.repeat([\"Mauricio\",\"JuanCarlos\",\"MocaSystem\"],27),\n",
    "    'score': [0,3,0,0,2,2,1,3,4,4,4,3,4,4,3,3,3,3,3,3,3,3,3,4,4,3,2,0,3,0,0,1,3,2,2,4,4,4,4,4,2,4,4,2,4,4,2,4,2,4,4,4,4,2,0,2,0,0,2,4,2,0,4,4,4,3,4,2,2,4,3,3,4,4,3,2,4,4,3,3,1]\n",
    "\n",
    "})\n",
    "# Compute ICC\n",
    "print(\"Numbers Evaluating General\")\n",
    "icc = pg.intraclass_corr(data=data_numbers_general, targets='subject', raters='judge', ratings='score')\n",
    "print(icc)\n"
   ]
  },
  {
   "cell_type": "code",
   "execution_count": 5,
   "metadata": {},
   "outputs": [
    {
     "name": "stdout",
     "output_type": "stream",
     "text": [
      "Final Results General Evaluation\n",
      "    Type              Description       ICC          F  df1  df2  \\\n",
      "0   ICC1   Single raters absolute  0.817713  14.457532   26   54   \n",
      "1   ICC2     Single random raters  0.819353  16.997645   26   52   \n",
      "2   ICC3      Single fixed raters  0.842086  16.997645   26   52   \n",
      "3  ICC1k  Average raters absolute  0.930832  14.457532   26   54   \n",
      "4  ICC2k    Average random raters  0.931540  16.997645   26   52   \n",
      "5  ICC3k     Average fixed raters  0.941168  16.997645   26   52   \n",
      "\n",
      "           pval         CI95%  \n",
      "0  3.925789e-16   [0.69, 0.9]  \n",
      "1  2.861503e-17  [0.68, 0.91]  \n",
      "2  2.861503e-17  [0.73, 0.92]  \n",
      "3  3.925789e-16  [0.87, 0.97]  \n",
      "4  2.861503e-17  [0.86, 0.97]  \n",
      "5  2.861503e-17  [0.89, 0.97]  \n"
     ]
    }
   ],
   "source": [
    "data_system_general = pd.DataFrame({\n",
    "    'subject': np.tile(np.arange(1,28),3),\n",
    "    'judge': np.repeat([\"Mauricio\",\"JuanCarlos\",\"MocaSystem\"],27),\n",
    "    'score': [1,6,2,2,4,4,4,7,10,10,9,8,9,9,8,9,9,8,7,7,8,8,8,9,9,8,4,1,8,3,2,3,8,5,7,10,10,9,9,10,7,9,10,8,10,9,8,10,7,10,9,10,9,6,2,5,3,3,5,7,6,3,10,10,9,7,8,8,8,8,9,6,7,7,7,7,10,9,8,8,4]\n",
    "\n",
    "})\n",
    "# Compute ICC\n",
    "print(\"Final Results General Evaluation\")\n",
    "icc = pg.intraclass_corr(data=data_system_general, targets='subject', raters='judge', ratings='score')\n",
    "print(icc)"
   ]
  }
 ],
 "metadata": {
  "kernelspec": {
   "display_name": "base",
   "language": "python",
   "name": "python3"
  },
  "language_info": {
   "codemirror_mode": {
    "name": "ipython",
    "version": 3
   },
   "file_extension": ".py",
   "mimetype": "text/x-python",
   "name": "python",
   "nbconvert_exporter": "python",
   "pygments_lexer": "ipython3",
   "version": "3.11.5"
  }
 },
 "nbformat": 4,
 "nbformat_minor": 2
}
